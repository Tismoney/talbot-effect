{
 "cells": [
  {
   "cell_type": "code",
   "execution_count": null,
   "metadata": {},
   "outputs": [
    {
     "name": "stdout",
     "output_type": "stream",
     "text": [
      "Populating the interactive namespace from numpy and matplotlib\n"
     ]
    }
   ],
   "source": [
    "%pylab inline\n",
    "import rawpy as rp\n",
    "import os\n",
    "from scipy.interpolate import griddata\n",
    "from tqdm import tqdm_notebook as tq\n",
    "\n",
    "NAME = \"seq3\"\n",
    "CROP = 2000 #Magic\n",
    "DIR = \"raw/\"+NAME\n",
    "\n",
    "X,Y,Z = np.array([]), np.array([]), np.array([])"
   ]
  },
  {
   "cell_type": "code",
   "execution_count": null,
   "metadata": {},
   "outputs": [
    {
     "data": {
      "application/vnd.jupyter.widget-view+json": {
       "model_id": "6b64c8f51e3744c38031fae4d5bbad6b"
      }
     },
     "metadata": {},
     "output_type": "display_data"
    },
    {
     "name": "stdout",
     "output_type": "stream",
     "text": [
      "Skip Icon\r\n"
     ]
    }
   ],
   "source": [
    "y = 0\n",
    "for file in tq(os.listdir(DIR)):\n",
    "    try:\n",
    "        x = rp.imread(DIR+\"/\"+file).raw_image.sum(axis=0)\n",
    "    except:\n",
    "        print(\"Skip \"+file)\n",
    "        continue\n",
    "    x = (x - x.min())/(x.max() - x.min()) #Normalize\n",
    "    barycenter = sum([i*x[i]**3 for i in range(0,x.size)])/sum(x**3)\n",
    "    Z = np.append(Z, x[int(barycenter-CROP/2):int(barycenter+CROP/2)])\n",
    "    X = np.append(X, np.arange(0,CROP,1))\n",
    "    Y = np.append(Y, [y]*CROP)\n",
    "    y += 1"
   ]
  },
  {
   "cell_type": "code",
   "execution_count": null,
   "metadata": {},
   "outputs": [],
   "source": [
    "pylab.rcParams['figure.figsize'] = (5, 7)\n",
    "\n",
    "LS = 1000\n",
    "xi = np.linspace(X.min(),X.max(),LS)\n",
    "yi = np.linspace(Y.min(),Y.max(),LS)\n",
    "zi = griddata((X, Y), Z, (xi[None,:], yi[:,None]), method='cubic')\n",
    "\n",
    "plt.contourf(xi, yi, zi, 20, cmap=plt.cm.gray)\n",
    "plt.savefig(NAME)"
   ]
  },
  {
   "cell_type": "code",
   "execution_count": null,
   "metadata": {
    "collapsed": true
   },
   "outputs": [],
   "source": []
  }
 ],
 "metadata": {
  "kernelspec": {
   "display_name": "Python 3",
   "language": "python",
   "name": "python3"
  },
  "language_info": {
   "codemirror_mode": {
    "name": "ipython",
    "version": 3
   },
   "file_extension": ".py",
   "mimetype": "text/x-python",
   "name": "python",
   "nbconvert_exporter": "python",
   "pygments_lexer": "ipython3",
   "version": "3.6.1"
  }
 },
 "nbformat": 4,
 "nbformat_minor": 2
}
